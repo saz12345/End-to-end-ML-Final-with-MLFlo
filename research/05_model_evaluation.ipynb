{
 "cells": [
  {
   "cell_type": "code",
   "execution_count": 1,
   "id": "674254bc",
   "metadata": {},
   "outputs": [],
   "source": [
    "import os"
   ]
  },
  {
   "cell_type": "code",
   "execution_count": 2,
   "id": "73907e93",
   "metadata": {},
   "outputs": [
    {
     "data": {
      "text/plain": [
       "'c:\\\\Users\\\\Sashank Ram\\\\Documents\\\\End-to-end-ML-Final-with-MLFlo\\\\research'"
      ]
     },
     "execution_count": 2,
     "metadata": {},
     "output_type": "execute_result"
    }
   ],
   "source": [
    "%pwd"
   ]
  },
  {
   "cell_type": "code",
   "execution_count": 3,
   "id": "f8d38a89",
   "metadata": {},
   "outputs": [],
   "source": [
    "os.chdir(\"../\")"
   ]
  },
  {
   "cell_type": "code",
   "execution_count": 4,
   "id": "62e20bcc",
   "metadata": {},
   "outputs": [
    {
     "data": {
      "text/plain": [
       "'c:\\\\Users\\\\Sashank Ram\\\\Documents\\\\End-to-end-ML-Final-with-MLFlo'"
      ]
     },
     "execution_count": 4,
     "metadata": {},
     "output_type": "execute_result"
    }
   ],
   "source": [
    "%pwd"
   ]
  },
  {
   "cell_type": "code",
   "execution_count": 27,
   "id": "a561c3ac",
   "metadata": {},
   "outputs": [],
   "source": [
    "os.environ[\"MLFLOW_TRACKING_URI\"]=\"https://dagshub.com/saz12345/End-to-end-ML-Final-with-MLFlo.mlflow\"\n",
    "os.environ[\"MLFLOW_TRACKING_USERNAME\"]=\"saz12345\"\n",
    "os.environ[\"MLFLOW_TRACKING_PASSWORD\"]=\"1dec117f94c57343f27a2ed36ecf54154970d635\""
   ]
  },
  {
   "cell_type": "code",
   "execution_count": 34,
   "id": "2b321c04",
   "metadata": {},
   "outputs": [],
   "source": [
    "from dataclasses import dataclass\n",
    "from pathlib import Path\n",
    "\n",
    "@dataclass(frozen=True)\n",
    "class ModelEvaluationConfig:\n",
    "    root_dir: Path\n",
    "    test_data_path: Path\n",
    "    model_path: Path\n",
    "    all_params: dict\n",
    "    metric_file_name: Path\n",
    "    target_column: str\n",
    "    mlflow_uri: str"
   ]
  },
  {
   "cell_type": "code",
   "execution_count": 35,
   "id": "b13566ce",
   "metadata": {},
   "outputs": [],
   "source": [
    "from src.mlProject.constants import *\n",
    "from src.mlProject.utils.common import read_yaml, create_directories"
   ]
  },
  {
   "cell_type": "code",
   "execution_count": 36,
   "id": "1c9f1bc3",
   "metadata": {},
   "outputs": [],
   "source": [
    "from src.mlProject.constants._init_ import CONFIG_FILE_PATH\n",
    "from src.mlProject.constants._init_ import PARAMS_FILE_PATH\n",
    "from src.mlProject.constants._init_ import SCHEMA_FILE_PATH\n",
    "\n",
    "class ConfigurationManager:\n",
    "    def __init__(\n",
    "            self,\n",
    "            config_filepath = CONFIG_FILE_PATH,\n",
    "            params_filepath = PARAMS_FILE_PATH,\n",
    "            schema_filepath = SCHEMA_FILE_PATH):\n",
    "        \n",
    "            self.config = read_yaml(config_filepath)\n",
    "            self.params =read_yaml(params_filepath)\n",
    "            self.schema =read_yaml(schema_filepath)\n",
    "\n",
    "            create_directories([self.config.artifacts_root])\n",
    "\n",
    "    def get_model_evaluation_config(self) -> ModelEvaluationConfig:\n",
    "          config = self.config.model_evaluation\n",
    "          params= self.params.ElasticNet\n",
    "          schema= self.schema.TARGET_COLUMN\n",
    "\n",
    "          create_directories([config.root_dir])\n",
    "\n",
    "          model_evaluation_config= ModelEvaluationConfig(\n",
    "              root_dir= Path(config.root_dir),\n",
    "              test_data_path= Path(config.test_data_path),\n",
    "              model_path= Path(config.model_path),\n",
    "              all_params=params,\n",
    "              metric_file_name= Path(config.metric_file_name),\n",
    "              target_column= schema.name,\n",
    "              mlflow_uri=\"https://dagshub.com/saz12345/End-to-end-ML-Final-with-MLFlo.mlflow\"\n",
    "    )\n",
    "\n",
    "          return model_evaluation_config"
   ]
  },
  {
   "cell_type": "code",
   "execution_count": 37,
   "id": "9f38df3d",
   "metadata": {},
   "outputs": [],
   "source": [
    "import pandas as pd\n",
    "import os\n",
    "from src.mlProject.utils._init_ import logger\n",
    "from sklearn.linear_model import ElasticNet\n",
    "import joblib\n",
    "from sklearn.metrics import mean_squared_error,mean_absolute_error,r2_score\n",
    "from urllib.parse import urlparse\n",
    "import mlflow\n",
    "import mlflow.sklearn\n",
    "import numpy as np\n"
   ]
  },
  {
   "cell_type": "code",
   "execution_count": 44,
   "id": "71b1148b",
   "metadata": {},
   "outputs": [],
   "source": [
    "from pathlib import Path\n",
    "import pandas as pd\n",
    "import joblib\n",
    "import numpy as np\n",
    "from sklearn.metrics import mean_squared_error, mean_absolute_error, r2_score\n",
    "import mlflow\n",
    "import mlflow.sklearn\n",
    "from mlflow.models import infer_signature\n",
    "from urllib.parse import urlparse\n",
    "from src.mlProject.utils.common import save_json\n",
    "\n",
    "class ModelEvaluation:\n",
    "    def __init__(self, config):\n",
    "        self.config = config\n",
    "\n",
    "    def eval_metrics(self, actual, pred):\n",
    "        rmse = np.sqrt(mean_squared_error(actual, pred))\n",
    "        mae = mean_absolute_error(actual, pred)\n",
    "        r2 = r2_score(actual, pred)\n",
    "        return rmse, mae, r2\n",
    "\n",
    "    def log_into_mlflow(self):\n",
    "        # Load test data and trained model\n",
    "        test_data = pd.read_csv(self.config.test_data_path)\n",
    "        model = joblib.load(self.config.model_path)\n",
    "\n",
    "        test_x = test_data.drop([self.config.target_column], axis=1)\n",
    "        test_y = test_data[[self.config.target_column]]\n",
    "\n",
    "        # Set MLflow registry/tracking URI\n",
    "        mlflow.set_registry_uri(self.config.mlflow_uri)\n",
    "        tracking_url_type_store = urlparse(mlflow.get_tracking_uri()).scheme\n",
    "\n",
    "        with mlflow.start_run():\n",
    "            # Make predictions\n",
    "            predicted_qualities = model.predict(test_x)\n",
    "\n",
    "            # Evaluate metrics\n",
    "            rmse, mae, r2 = self.eval_metrics(test_y, predicted_qualities)\n",
    "            scores = {\"rmse\": rmse, \"mae\": mae, \"r2\": r2}\n",
    "            save_json(path=Path(self.config.metric_file_name), data=scores)\n",
    "\n",
    "            # Log parameters and metrics\n",
    "            mlflow.log_params(self.config.all_params)\n",
    "            mlflow.log_metric(\"rmse\", rmse)\n",
    "            mlflow.log_metric(\"mae\", mae)\n",
    "            mlflow.log_metric(\"r2\", r2)\n",
    "\n",
    "            # Infer model signature\n",
    "            signature = infer_signature(test_x, predicted_qualities)\n",
    "\n",
    "            # Log the model\n",
    "            if tracking_url_type_store != \"file\":\n",
    "                # Remote tracking: register model\n",
    "                model_info = mlflow.sklearn.log_model(\n",
    "                    sk_model=model,\n",
    "                    artifact_path=\"model\",\n",
    "                    registered_model_name=\"Elasticnetmodel\",\n",
    "                    signature=signature\n",
    "                )\n",
    "            else:\n",
    "                # Local tracking: just log the model\n",
    "                model_info = mlflow.sklearn.log_model(\n",
    "                    sk_model=model,\n",
    "                    artifact_path=\"model\",\n",
    "                    signature=signature\n",
    "                )\n",
    "\n",
    "            # Print the URI where model is saved\n",
    "            print(\"Model logged at:\", model_info.model_uri)\n"
   ]
  },
  {
   "cell_type": "code",
   "execution_count": 45,
   "id": "bac73f8f",
   "metadata": {},
   "outputs": [
    {
     "name": "stdout",
     "output_type": "stream",
     "text": [
      "[2025-09-07 14:23:37,107: INFO: common: yaml file:config\\config.yaml loaded successfully]\n",
      "[2025-09-07 14:23:37,107: INFO: common: yaml file:params.yaml loaded successfully]\n",
      "[2025-09-07 14:23:37,115: INFO: common: yaml file:schema.yaml loaded successfully]\n",
      "[2025-09-07 14:23:37,119: INFO: common: created directory at:artifacts]\n",
      "[2025-09-07 14:23:37,120: INFO: common: created directory at:artifacts/model_evaluation]\n"
     ]
    },
    {
     "name": "stderr",
     "output_type": "stream",
     "text": [
      "c:\\mlproject\\venv\\lib\\site-packages\\sklearn\\base.py:348: InconsistentVersionWarning: Trying to unpickle estimator ElasticNet from version 1.7.1 when using version 1.3.2. This might lead to breaking code or invalid results. Use at your own risk. For more info please refer to:\n",
      "https://scikit-learn.org/stable/model_persistence.html#security-maintainability-limitations\n",
      "  warnings.warn(\n"
     ]
    },
    {
     "name": "stdout",
     "output_type": "stream",
     "text": [
      "[2025-09-07 14:23:37,563: INFO: common: json file saved at: artifacts\\model_evaluation\\metrics.json]\n"
     ]
    },
    {
     "name": "stderr",
     "output_type": "stream",
     "text": [
      "c:\\mlproject\\venv\\lib\\site-packages\\mlflow\\types\\utils.py:407: UserWarning: Hint: Inferred schema contains integer column(s). Integer columns in Python cannot represent missing values. If your input data contains missing values at inference time, it will be encoded as floats and will cause a schema enforcement error. The best way to avoid this problem is to infer the model schema based on a realistic data sample (training dataset) that includes missing values. Alternatively, you can declare integer columns as doubles (float64) whenever these columns may have missing values. See `Handling Integers With Missing Values <https://www.mlflow.org/docs/latest/models.html#handling-integers-with-missing-values>`_ for more details.\n",
      "  warnings.warn(\n",
      "Registered model 'Elasticnetmodel' already exists. Creating a new version of this model...\n",
      "2025/09/07 14:23:47 INFO mlflow.store.model_registry.abstract_store: Waiting up to 300 seconds for model version to finish creation. Model name: Elasticnetmodel, version 4\n",
      "Created version '4' of model 'Elasticnetmodel'.\n"
     ]
    },
    {
     "name": "stdout",
     "output_type": "stream",
     "text": [
      "Model logged at: runs:/562a8a9de3944c43b443e2c6d1cff612/model\n"
     ]
    },
    {
     "name": "stderr",
     "output_type": "stream",
     "text": [
      "2025/09/07 14:23:47 INFO mlflow.tracking._tracking_service.client: 🏃 View run sassy-gull-432 at: https://dagshub.com/saz12345/End-to-end-ML-Final-with-MLFlo.mlflow/#/experiments/0/runs/562a8a9de3944c43b443e2c6d1cff612.\n",
      "2025/09/07 14:23:47 INFO mlflow.tracking._tracking_service.client: 🧪 View experiment at: https://dagshub.com/saz12345/End-to-end-ML-Final-with-MLFlo.mlflow/#/experiments/0.\n"
     ]
    }
   ],
   "source": [
    "try:\n",
    "    config=ConfigurationManager()\n",
    "    model_evaluation_config=config.get_model_evaluation_config()\n",
    "    model_evaluation_config=ModelEvaluation(config=model_evaluation_config)\n",
    "    model_evaluation_config.log_into_mlflow()\n",
    "except Exception as e:\n",
    "    raise e"
   ]
  },
  {
   "cell_type": "code",
   "execution_count": null,
   "id": "57a71f09",
   "metadata": {},
   "outputs": [],
   "source": []
  }
 ],
 "metadata": {
  "kernelspec": {
   "display_name": "Python 3",
   "language": "python",
   "name": "python3"
  },
  "language_info": {
   "codemirror_mode": {
    "name": "ipython",
    "version": 3
   },
   "file_extension": ".py",
   "mimetype": "text/x-python",
   "name": "python",
   "nbconvert_exporter": "python",
   "pygments_lexer": "ipython3",
   "version": "3.8.20"
  }
 },
 "nbformat": 4,
 "nbformat_minor": 5
}
